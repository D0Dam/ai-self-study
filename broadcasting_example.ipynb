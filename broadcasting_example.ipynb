{
 "cells": [
  {
   "cell_type": "code",
   "execution_count": 2,
   "id": "6b2dabf6-0f68-4141-a649-d2d6473b00ed",
   "metadata": {},
   "outputs": [
    {
     "name": "stdout",
     "output_type": "stream",
     "text": [
      "[[ 56.    0.    4.4  68. ]\n",
      " [  1.2 104.   52.    8. ]\n",
      " [  1.8 135.   99.    0.9]]\n"
     ]
    }
   ],
   "source": [
    "import numpy as np\n",
    "\n",
    "A = np.array([[56.0, 0.0, 4.4, 68.0],\n",
    "              [1.2, 104.0, 52.0, 8.0],\n",
    "              [1.8, 135.0, 99.0, 0.9]])\n",
    "\n",
    "print(A)"
   ]
  },
  {
   "cell_type": "code",
   "execution_count": 3,
   "id": "2f1cf208-b6de-42d3-8147-df5bcbfb5728",
   "metadata": {},
   "outputs": [
    {
     "name": "stdout",
     "output_type": "stream",
     "text": [
      "[ 59.  239.  155.4  76.9]\n"
     ]
    }
   ],
   "source": [
    "cal = A.sum(axis=0)\n",
    "print(cal)"
   ]
  },
  {
   "cell_type": "code",
   "execution_count": 4,
   "id": "d56ff2fb-8db5-4bc5-8281-a3e8e0306632",
   "metadata": {},
   "outputs": [
    {
     "name": "stdout",
     "output_type": "stream",
     "text": [
      "[[94.91525424  0.          2.83140283 88.42652796]\n",
      " [ 2.03389831 43.51464435 33.46203346 10.40312094]\n",
      " [ 3.05084746 56.48535565 63.70656371  1.17035111]]\n"
     ]
    }
   ],
   "source": [
    "percentage = 100 * A / cal.reshape(1, 4)\n",
    "print(percentage)"
   ]
  },
  {
   "cell_type": "code",
   "execution_count": 5,
   "id": "3ee52abb-9801-4333-9412-701e64ea7217",
   "metadata": {},
   "outputs": [
    {
     "name": "stdout",
     "output_type": "stream",
     "text": [
      "[-1.61360033 -0.4387201  -0.24587095  0.725348    0.79096069] [-1.61360033 -0.4387201  -0.24587095  0.725348    0.79096069] 4.008382404738041 \n",
      "\n",
      "[[ 0.94901415]\n",
      " [-1.52867215]\n",
      " [ 0.86350372]\n",
      " [ 0.90019167]\n",
      " [-0.60509709]] [[ 0.94901415 -1.52867215  0.86350372  0.90019167 -0.60509709]] [[ 0.90062785 -1.4507315   0.81947725  0.85429463 -0.5742457 ]\n",
      " [-1.4507315   2.33683853 -1.32001409 -1.37609794  0.92499506]\n",
      " [ 0.81947725 -1.32001409  0.74563868  0.77731886 -0.52250358]\n",
      " [ 0.85429463 -1.37609794  0.77731886  0.81034505 -0.54470336]\n",
      " [-0.5742457   0.92499506 -0.52250358 -0.54470336  0.36614248]]\n"
     ]
    }
   ],
   "source": [
    "a = np.random.randn(5)\n",
    "print(a, a.T, np.dot(a, a.T), '\\n')\n",
    "a = np.random.randn(5, 1)\n",
    "print(a, a.T, np.dot(a, a.T))"
   ]
  }
 ],
 "metadata": {
  "kernelspec": {
   "display_name": "Python 3 (ipykernel)",
   "language": "python",
   "name": "python3"
  },
  "language_info": {
   "codemirror_mode": {
    "name": "ipython",
    "version": 3
   },
   "file_extension": ".py",
   "mimetype": "text/x-python",
   "name": "python",
   "nbconvert_exporter": "python",
   "pygments_lexer": "ipython3",
   "version": "3.12.6"
  }
 },
 "nbformat": 4,
 "nbformat_minor": 5
}
